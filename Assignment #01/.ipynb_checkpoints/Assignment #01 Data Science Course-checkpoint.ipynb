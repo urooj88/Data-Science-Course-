{
 "cells": [
  {
   "cell_type": "markdown",
   "id": "d2b4d6e5",
   "metadata": {},
   "source": [
    "# Question # 01\n",
    "## Print the poem in given order"
   ]
  },
  {
   "cell_type": "code",
   "execution_count": 8,
   "id": "e1a5d8f3",
   "metadata": {},
   "outputs": [
    {
     "name": "stdout",
     "output_type": "stream",
     "text": [
      "Twinkle, twinkle, little star, \n",
      "\tHow I wonder what you are! \n",
      "\t\tUp above the world so high, \n",
      "\t\tLike a diamond in the sky. \n",
      "Twinkle, twinkle, little star, \n",
      "\tHow I wonder what you are\n"
     ]
    }
   ],
   "source": [
    "print(\"Twinkle, twinkle, little star, \\n\\tHow I wonder what you are! \\n\\t\\tUp above the world so high, \\n\\t\\tLike a diamond in the sky. \\nTwinkle, twinkle, little star, \\n\\tHow I wonder what you are\")\n"
   ]
  },
  {
   "cell_type": "markdown",
   "id": "237e1126",
   "metadata": {},
   "source": [
    "# Question # 02\n",
    "## write a python program to get the python version you are using"
   ]
  },
  {
   "cell_type": "code",
   "execution_count": 14,
   "id": "a6b88aaa",
   "metadata": {},
   "outputs": [
    {
     "name": "stdout",
     "output_type": "stream",
     "text": [
      "Python Version\n",
      "3.9.7 (default, Sep 16 2021, 16:59:28) [MSC v.1916 64 bit (AMD64)]\n",
      "Version Info.\n",
      "sys.version_info(major=3, minor=9, micro=7, releaselevel='final', serial=0)\n"
     ]
    }
   ],
   "source": [
    "import sys\n",
    "print(\"Python Version\")\n",
    "print (sys.version)\n",
    "print(\"Version Info.\")\n",
    "print (sys.version_info)"
   ]
  },
  {
   "cell_type": "markdown",
   "id": "d784683b",
   "metadata": {},
   "source": [
    "# Question # 03\n",
    "## write a python program to display the current date and time"
   ]
  },
  {
   "cell_type": "code",
   "execution_count": 13,
   "id": "88c564f6",
   "metadata": {},
   "outputs": [
    {
     "name": "stdout",
     "output_type": "stream",
     "text": [
      "Current date and time : \n",
      "2021-12-29 16:58:46\n"
     ]
    }
   ],
   "source": [
    "import datetime\n",
    "now = datetime.datetime.now()\n",
    "print (\"Current date and time : \")\n",
    "print (now.strftime(\"%Y-%m-%d %H:%M:%S\"))"
   ]
  },
  {
   "cell_type": "markdown",
   "id": "a3802557",
   "metadata": {},
   "source": [
    "# Question # 04\n",
    "## write a python program which accepts the radius of a circle from the user and compute the area"
   ]
  },
  {
   "cell_type": "code",
   "execution_count": 17,
   "id": "7517d1c4",
   "metadata": {},
   "outputs": [
    {
     "name": "stdout",
     "output_type": "stream",
     "text": [
      "Enter the  Radius of the Circle = 2\n",
      "The Area of the Circle is= 12.566370614359172\n"
     ]
    }
   ],
   "source": [
    "from math import pi\n",
    "r = float(input (\"Enter the  Radius of the Circle = \"))\n",
    "print (\"The Area of the Circle is= \" + str(pi * r**2))"
   ]
  },
  {
   "cell_type": "markdown",
   "id": "ecef1efb",
   "metadata": {},
   "source": [
    "# Questionv# 05\n",
    "## write a python program which accepts the user first or last name and print them in reverse order with space between them"
   ]
  },
  {
   "cell_type": "code",
   "execution_count": 20,
   "id": "ff3d6d11",
   "metadata": {},
   "outputs": [
    {
     "name": "stdout",
     "output_type": "stream",
     "text": [
      "Input your First Name : Urooj\n",
      "Input your Last Name : Asgher\n",
      "Asgher Urooj\n"
     ]
    }
   ],
   "source": [
    "First_name = input(\"Input your First Name : \")\n",
    "Last_name = input(\"Input your Last Name : \")\n",
    "print (Last_name + \" \" + First_name)"
   ]
  },
  {
   "cell_type": "markdown",
   "id": "a359b7f7",
   "metadata": {},
   "source": [
    "# Question # 06\n",
    "## write a python program which takes two inputs from user and print them addition"
   ]
  },
  {
   "cell_type": "code",
   "execution_count": 22,
   "id": "2c658580",
   "metadata": {},
   "outputs": [
    {
     "name": "stdout",
     "output_type": "stream",
     "text": [
      "Type a number: 2\n",
      "Type another number: 78\n",
      "The sum is:  80\n"
     ]
    }
   ],
   "source": [
    "x = input(\"Type a number: \")\n",
    "y = input(\"Type another number: \")\n",
    "sum = int(x) + int(y)\n",
    "print(\"The sum is: \", sum)"
   ]
  },
  {
   "cell_type": "code",
   "execution_count": null,
   "id": "e833873e",
   "metadata": {},
   "outputs": [],
   "source": []
  }
 ],
 "metadata": {
  "kernelspec": {
   "display_name": "Python 3 (ipykernel)",
   "language": "python",
   "name": "python3"
  },
  "language_info": {
   "codemirror_mode": {
    "name": "ipython",
    "version": 3
   },
   "file_extension": ".py",
   "mimetype": "text/x-python",
   "name": "python",
   "nbconvert_exporter": "python",
   "pygments_lexer": "ipython3",
   "version": "3.9.7"
  }
 },
 "nbformat": 4,
 "nbformat_minor": 5
}
